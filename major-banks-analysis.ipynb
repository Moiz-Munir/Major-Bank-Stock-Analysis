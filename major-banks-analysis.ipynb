{
 "cells": [
  {
   "cell_type": "markdown",
   "id": "1714345d",
   "metadata": {},
   "source": [
    "# Interactive Analysis of Major Canadian Banks\n",
    "\n",
    "This notebook outlines the workflow and logic of the `major_banks_calc.py` script. It provides explanations and interactive code for analyzing the historical performance and risk of five major Canadian banks using Python, yfinance, pandas, numpy, plotly, and ipywidgets."
   ]
  },
  {
   "cell_type": "markdown",
   "id": "a2ec968d",
   "metadata": {},
   "source": [
    "## 1. Import Required Libraries\n",
    "\n",
    "Import the necessary libraries for data acquisition, manipulation, visualization, and interactivity. These include yfinance for stock data, pandas and numpy for analysis, plotly for plotting, and ipywidgets for interactive controls."
   ]
  },
  {
   "cell_type": "code",
   "execution_count": null,
   "id": "59272381",
   "metadata": {},
   "outputs": [],
   "source": [
    "import yfinance as yf\n",
    "import pandas as pd\n",
    "import numpy as np\n",
    "import plotly.graph_objects as go\n",
    "from dash import Dash, dcc, html\n",
    "from dash.dependencies import Input, Output\n",
    "import webbrowser\n",
    "from statsmodels.tsa.arima.model import ARIMA"
   ]
  },
  {
   "cell_type": "markdown",
   "id": "177e6142",
   "metadata": {},
   "source": [
    "## 2. Download Historical Stock Data\n",
    "\n",
    "Use yfinance to download 5 years of daily closing prices for the five major Canadian banks: BMO, TD, RBC, CIBC, and Scotiabank. The data is retrieved as a pandas DataFrame for further analysis."
   ]
  },
  {
   "cell_type": "code",
   "execution_count": null,
   "id": "a06e5f83",
   "metadata": {},
   "outputs": [],
   "source": [
    "# Download data for 5 major Canadian banks\n",
    "tickers = [\"BMO.TO\", \"TD.TO\", \"RY.TO\", \"CM.TO\", \"BNS.TO\"]\n",
    "bankData = yf.download(tickers, period=\"5y\")['Close']\n",
    "bankData.head()"
   ]
  },
  {
   "cell_type": "markdown",
   "id": "2f710138",
   "metadata": {},
   "source": [
    "## 3. Calculate Financial Metrics\n",
    "\n",
    "Compute key financial metrics for each bank:\n",
    "- **Daily Returns:** Percentage change in closing price from one day to the next.\n",
    "- **Cumulative Returns:** Growth of $1 invested, calculated as the cumulative product of daily returns.\n",
    "- **30-Day Rolling Volatility:** Standard deviation of daily returns over a 30-day window, representing risk."
   ]
  },
  {
   "cell_type": "code",
   "execution_count": null,
   "id": "b14e9cca",
   "metadata": {},
   "outputs": [],
   "source": [
    "# Calculate daily returns, cumulative returns, and rolling volatility\n",
    "dailyReturns = bankData.pct_change()\n",
    "cumulativeReturns = (1 + dailyReturns).cumprod()\n",
    "rollingVolatility = dailyReturns.rolling(window=30).std().dropna()\n",
    "\n",
    "# Display sample metrics\n",
    "display(dailyReturns.tail(3))\n",
    "display(cumulativeReturns.tail(3))\n",
    "display(rollingVolatility.tail(3))"
   ]
  },
  {
   "cell_type": "markdown",
   "id": "4febc8e3",
   "metadata": {},
   "source": [
    "## 4. Define Visualization Colors and Labels\n",
    "\n",
    "Set up dictionaries to map each ticker to a specific color and a readable bank name. This ensures consistent and clear labeling in all plots."
   ]
  },
  {
   "cell_type": "code",
   "execution_count": null,
   "id": "b3c9426b",
   "metadata": {},
   "outputs": [],
   "source": [
    "# Define colors and labels for each bank\n",
    "colors = {\n",
    "    \"BMO.TO\": \"blue\",\n",
    "    \"TD.TO\": \"green\",\n",
    "    \"RY.TO\": \"gold\",\n",
    "    \"CM.TO\": \"red\",\n",
    "    \"BNS.TO\": \"pink\"\n",
    "}\n",
    "\n",
    "labels = {\n",
    "    \"BMO.TO\": \"BMO\",\n",
    "    \"TD.TO\": \"TD\",\n",
    "    \"RY.TO\": \"RBC\",\n",
    "    \"CM.TO\": \"CIBC\",\n",
    "    \"BNS.TO\": \"Scotiabank\"\n",
    "}"
   ]
  },
  {
   "cell_type": "markdown",
   "id": "8c630a4f",
   "metadata": {},
   "source": [
    "## 5. Create Monte Carlo Forecast Function\n",
    "\n",
    "Define a function to simulate future price paths using the Monte Carlo method. This function generates multiple possible future scenarios based on historical mean and standard deviation of returns, and returns the median and 5-95% confidence intervals for the forecasted prices."
   ]
  },
  {
   "cell_type": "code",
   "execution_count": null,
   "id": "f9896bbb",
   "metadata": {},
   "outputs": [],
   "source": [
    "def monteCarloForecast(lastPrice, meanReturn, stdReturn, nDays=60, nSim=1000):\n",
    "    \"\"\"\n",
    "    Simulate future price paths using Monte Carlo method.\n",
    "    Returns future dates, median, lower (5%), and upper (95%) percentiles.\n",
    "    \"\"\"\n",
    "    simPrices = np.zeros((nDays, nSim))\n",
    "    for i in range(nSim):\n",
    "        price = lastPrice\n",
    "        for j in range(nDays):\n",
    "            price = price * (1 + np.random.normal(meanReturn, stdReturn))\n",
    "            simPrices[j, i] = price\n",
    "    lower = np.percentile(simPrices, 5, axis=1)\n",
    "    upper = np.percentile(simPrices, 95, axis=1)\n",
    "    median = np.percentile(simPrices, 50, axis=1)\n",
    "    futureDates = pd.date_range(start=bankData.index[-1] + pd.Timedelta(days=1), periods=nDays, freq='B')\n",
    "    return futureDates, median, lower, upper"
   ]
  },
  {
   "cell_type": "markdown",
   "id": "cea22be9",
   "metadata": {},
   "source": [
    "## 6. Visualize Metrics with Plotly\n",
    "\n",
    "Create a function to plot the selected metric (cumulative returns, daily returns, or rolling volatility) for one or all banks using Plotly line charts. Optionally, overlay the Monte Carlo forecast results for a selected bank."
   ]
  },
  {
   "cell_type": "code",
   "execution_count": null,
   "id": "8abc423a",
   "metadata": {},
   "outputs": [],
   "source": [
    "def plot_bank_metric(selectedBank, selectedMetric, showForecast):\n",
    "    \"\"\"\n",
    "    Plot the selected metric for the chosen bank(s).\n",
    "    Optionally overlay Monte Carlo forecast for cumulative returns.\n",
    "    \"\"\"\n",
    "    if selectedMetric == 'cumulativeReturns':\n",
    "        dataToPlot = cumulativeReturns\n",
    "        yLabel = \"Cumulative Return ($1 Invested)\"\n",
    "    elif selectedMetric == 'dailyReturns':\n",
    "        dataToPlot = dailyReturns\n",
    "        yLabel = \"Daily Return\"\n",
    "    elif selectedMetric == 'rollingVolatility':\n",
    "        dataToPlot = rollingVolatility\n",
    "        yLabel = \"Volatility (Std Dev of Daily Returns)\"\n",
    "    else:\n",
    "        raise ValueError(\"Invalid metric selected.\")\n",
    "\n",
    "    fig = go.Figure()\n",
    "\n",
    "    banksToPlot = dataToPlot.columns if selectedBank == 'All' else [selectedBank]\n",
    "    for bank in banksToPlot:\n",
    "        fig.add_trace(go.Scatter(\n",
    "            x=dataToPlot.index,\n",
    "            y=dataToPlot[bank],\n",
    "            mode='lines',\n",
    "            name=labels[bank],\n",
    "            line=dict(color=colors[bank], width=2)\n",
    "        ))\n",
    "\n",
    "    # Add Monte Carlo forecast if requested\n",
    "    if showForecast and selectedBank != 'All' and selectedMetric == 'cumulativeReturns':\n",
    "        lastPrice = cumulativeReturns[selectedBank].iloc[-1]\n",
    "        meanReturn = dailyReturns[selectedBank].mean()\n",
    "        stdReturn = dailyReturns[selectedBank].std()\n",
    "        futureDates, median, lower, upper = monteCarloForecast(lastPrice, meanReturn, stdReturn)\n",
    "        # Median forecast\n",
    "        fig.add_trace(go.Scatter(\n",
    "            x=futureDates,\n",
    "            y=median,\n",
    "            mode='lines',\n",
    "            name=f\"{labels[selectedBank]} Forecast Median\",\n",
    "            line=dict(color=colors[selectedBank], width=2, dash='dash')\n",
    "        ))\n",
    "        # Confidence interval\n",
    "        fig.add_trace(go.Scatter(\n",
    "            x=np.concatenate([futureDates, futureDates[::-1]]),\n",
    "            y=np.concatenate([upper, lower[::-1]]),\n",
    "            fill='toself',\n",
    "            fillcolor='rgba(0,0,0,0.1)',\n",
    "            line=dict(color='rgba(0,0,0,0)'),\n",
    "            showlegend=True,\n",
    "            name=f\"{labels[selectedBank]} 5-95% Forecast\"\n",
    "        ))\n",
    "\n",
    "    fig.update_layout(\n",
    "        title=f\"{selectedMetric.replace('daily', 'Daily').replace('cumulative', 'Cumulative').replace('Returns',' Returns').replace('Volatility',' Volatility')} of Selected Banks\",\n",
    "        xaxis_title=\"Date\",\n",
    "        yaxis_title=yLabel,\n",
    "        hovermode=\"x unified\",\n",
    "        legend_title=\"Bank\",\n",
    "        template=\"plotly_white\"\n",
    "    )\n",
    "    fig.show()"
   ]
  },
  {
   "cell_type": "markdown",
   "id": "e16d58b5",
   "metadata": {},
   "source": [
    "## 7. Interactive Controls with ipywidgets\n",
    "\n",
    "Add dropdowns and checkboxes using ipywidgets to select the bank, metric, and toggle the Monte Carlo forecast. The plot updates interactively based on user selections."
   ]
  },
  {
   "cell_type": "code",
   "execution_count": null,
   "id": "81f26dca",
   "metadata": {},
   "outputs": [],
   "source": [
    "# Interactive widgets for bank, metric, and forecast selection\n",
    "bank_options = [(labels[t], t) for t in tickers] + [(\"All Banks\", \"All\")]\n",
    "metric_options = [\n",
    "    (\"Cumulative Returns\", \"cumulativeReturns\"),\n",
    "    (\"Daily Returns\", \"dailyReturns\"),\n",
    "    (\"Rolling Volatility\", \"rollingVolatility\")\n",
    "]\n",
    "\n",
    "bank_dropdown = widgets.Dropdown(\n",
    "    options=bank_options,\n",
    "    value=\"All\",\n",
    "    description=\"Bank:\"\n",
    ")\n",
    "\n",
    "metric_dropdown = widgets.Dropdown(\n",
    "    options=metric_options,\n",
    "    value=\"cumulativeReturns\",\n",
    "    description=\"Metric:\"\n",
    ")\n",
    "\n",
    "forecast_checkbox = widgets.Checkbox(\n",
    "    value=False,\n",
    "    description=\"Show Monte Carlo Forecast\"\n",
    ")\n",
    "\n",
    "def update_plot(change=None):\n",
    "    clear_output(wait=True)\n",
    "    display(ui)\n",
    "    plot_bank_metric(\n",
    "        selectedBank=bank_dropdown.value,\n",
    "        selectedMetric=metric_dropdown.value,\n",
    "        showForecast=forecast_checkbox.value\n",
    "    )\n",
    "\n",
    "bank_dropdown.observe(update_plot, names='value')\n",
    "metric_dropdown.observe(update_plot, names='value')\n",
    "forecast_checkbox.observe(update_plot, names='value')\n",
    "\n",
    "ui = widgets.VBox([bank_dropdown, metric_dropdown, forecast_checkbox])\n",
    "display(ui)\n",
    "update_plot()"
   ]
  }
 ],
 "metadata": {
  "language_info": {
   "name": "python"
  }
 },
 "nbformat": 4,
 "nbformat_minor": 5
}
